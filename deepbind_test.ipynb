{
 "cells": [
  {
   "cell_type": "code",
   "execution_count": 1,
   "metadata": {},
   "outputs": [
    {
     "name": "stderr",
     "output_type": "stream",
     "text": [
      "2023-09-08 09:28:59.708712: I tensorflow/tsl/cuda/cudart_stub.cc:28] Could not find cuda drivers on your machine, GPU will not be used.\n",
      "2023-09-08 09:28:59.734948: I tensorflow/tsl/cuda/cudart_stub.cc:28] Could not find cuda drivers on your machine, GPU will not be used.\n",
      "2023-09-08 09:28:59.735408: I tensorflow/core/platform/cpu_feature_guard.cc:182] This TensorFlow binary is optimized to use available CPU instructions in performance-critical operations.\n",
      "To enable the following instructions: AVX2 FMA, in other operations, rebuild TensorFlow with the appropriate compiler flags.\n",
      "2023-09-08 09:29:00.261682: W tensorflow/compiler/tf2tensorrt/utils/py_utils.cc:38] TF-TRT Warning: Could not find TensorRT\n"
     ]
    }
   ],
   "source": [
    "import h5py\n",
    "import numpy as np\n",
    "import matplotlib.pyplot as plt\n",
    "import tensorflow as tf\n",
    "\n",
    "import os\n",
    "os.environ['CUDA_VISIBLE_DEVICES'] = '1'\n",
    "%matplotlib inline"
   ]
  },
  {
   "cell_type": "code",
   "execution_count": 2,
   "metadata": {},
   "outputs": [],
   "source": [
    "from tensorflow import keras\n",
    "from tensorflow.keras import models, layers, callbacks, activations, optimizers"
   ]
  },
  {
   "cell_type": "code",
   "execution_count": 16,
   "metadata": {},
   "outputs": [],
   "source": [
    "def data_arrays(data_path):\n",
    "    dataset = h5py.File(data_path, 'r')\n",
    "    x_train = np.array(dataset['X_train']).transpose([0,2,1])\n",
    "    y_train = np.array(dataset['Y_train'])\n",
    "    x_valid = np.array(dataset['X_valid']).transpose([0,2,1])\n",
    "    y_valid = np.array(dataset['Y_valid'])\n",
    "    x_test = np.array(dataset['X_test']).transpose([0,2,1])\n",
    "    y_test = np.array(dataset['Y_test'])\n",
    "    alphabet = 'ACGT'\n",
    "\n",
    "    \n",
    "    return x_train, y_train, x_valid, y_valid, x_test, y_test, alphabet\n"
   ]
  },
  {
   "cell_type": "code",
   "execution_count": 17,
   "metadata": {},
   "outputs": [
    {
     "name": "stdout",
     "output_type": "stream",
     "text": [
      "(4008, 200, 9) (4008, 1)\n"
     ]
    }
   ],
   "source": [
    "x_train, y_train, x_valid, y_valid, x_test, y_test, alphabet = data_arrays(data_path= '/home/pgarcia/rbp_project/data/HNRNPK_K562_200.h5')\n",
    "print(x_train.shape, y_train.shape)"
   ]
  },
  {
   "cell_type": "code",
   "execution_count": 33,
   "metadata": {},
   "outputs": [],
   "source": [
    "def input_shape_check(x_train, x_test,x_valid):\n",
    "    if x_train.shape[-1] == 4:\n",
    "        print(\"Input shape is correct: \" + x_train.shape)\n",
    "    else:\n",
    "        # Adjust input shape\n",
    "        x_train = x_train[:,:,:4]\n",
    "        x_test = x_test[:,:,:4]\n",
    "        x_valid = x_valid[:,:,:4]\n",
    "\n",
    "        # Print the shape of the training data\n",
    "        print(\"Input shape adjusted:\")\n",
    "        print(x_train.shape)\n",
    "        print(x_test.shape)\n",
    "        print(x_valid.shape)\n",
    "    return x_train, x_test, x_valid"
   ]
  },
  {
   "cell_type": "code",
   "execution_count": 38,
   "metadata": {},
   "outputs": [
    {
     "name": "stdout",
     "output_type": "stream",
     "text": [
      "Input shape adjusted:\n",
      "(4008, 200, 4)\n",
      "(1146, 200, 4)\n",
      "(572, 200, 4)\n"
     ]
    }
   ],
   "source": [
    "x_train, x_test, x_valid = input_shape_check(x_train, x_test,x_valid)"
   ]
  },
  {
   "cell_type": "code",
   "execution_count": 5,
   "metadata": {},
   "outputs": [
    {
     "name": "stdout",
     "output_type": "stream",
     "text": [
      "(4008, 200, 9)\n",
      "(4008, 200, 4)\n",
      "(1146, 200, 4)\n",
      "(572, 200, 4)\n"
     ]
    }
   ],
   "source": [
    "#check initial input shape\n",
    "print(x_train.shape)\n",
    "\n",
    "#Adjust input shape\n",
    "x_train = x_train[:,:,:4]\n",
    "x_test = x_test[:,:,:4]\n",
    "x_valid = x_valid[:,:,:4]\n",
    "\n",
    "# Print the shape of the training data\n",
    "print(x_train.shape)\n",
    "print(x_test.shape)\n",
    "print(x_valid.shape)"
   ]
  },
  {
   "cell_type": "code",
   "execution_count": 35,
   "metadata": {},
   "outputs": [
    {
     "data": {
      "text/plain": [
       "array([[1],\n",
       "       [0],\n",
       "       [1],\n",
       "       ...,\n",
       "       [0],\n",
       "       [1],\n",
       "       [0]], dtype=int8)"
      ]
     },
     "execution_count": 35,
     "metadata": {},
     "output_type": "execute_result"
    }
   ],
   "source": [
    "y_test#checks whether classification or regression task"
   ]
  },
  {
   "cell_type": "code",
   "execution_count": 39,
   "metadata": {},
   "outputs": [],
   "source": [
    "def deepbind_test():\n",
    "    #Build the model\n",
    "    model = models.Sequential()\n",
    "    #layer1\n",
    "    model.add(layers.InputLayer(input_shape=(200, 4))) # 4 channel input\n",
    "    #layer2\n",
    "    model.add(layers.Conv1D(filters=16, kernel_size=24, padding='same'))\n",
    "    model.add(layers.Activation(activations.relu))\n",
    "    #layer3\n",
    "    model.add(layers.MaxPooling1D(pool_size=25))\n",
    "    \n",
    "    model.add(layers.Flatten())\n",
    "    model.add(layers.Dense(units=32, activation='relu')) #model says \"one hidden layer with 32 ReLu units\"?\n",
    "    model.add(layers.Dropout(0.2))\n",
    "\n",
    "    model.add(layers.Dense(units=1, activation='sigmoid'))\n",
    "    \n",
    "\n",
    "    \n",
    "    print(model.summary())\n",
    "    \n",
    "    \n",
    "    return model"
   ]
  },
  {
   "cell_type": "code",
   "execution_count": 40,
   "metadata": {},
   "outputs": [
    {
     "name": "stdout",
     "output_type": "stream",
     "text": [
      "Model: \"sequential_2\"\n",
      "_________________________________________________________________\n",
      " Layer (type)                Output Shape              Param #   \n",
      "=================================================================\n",
      " conv1d_2 (Conv1D)           (None, 200, 16)           1552      \n",
      "                                                                 \n",
      " activation_2 (Activation)   (None, 200, 16)           0         \n",
      "                                                                 \n",
      " max_pooling1d_2 (MaxPoolin  (None, 8, 16)             0         \n",
      " g1D)                                                            \n",
      "                                                                 \n",
      " flatten_2 (Flatten)         (None, 128)               0         \n",
      "                                                                 \n",
      " dense_4 (Dense)             (None, 32)                4128      \n",
      "                                                                 \n",
      " dropout_2 (Dropout)         (None, 32)                0         \n",
      "                                                                 \n",
      " dense_5 (Dense)             (None, 1)                 33        \n",
      "                                                                 \n",
      "=================================================================\n",
      "Total params: 5713 (22.32 KB)\n",
      "Trainable params: 5713 (22.32 KB)\n",
      "Non-trainable params: 0 (0.00 Byte)\n",
      "_________________________________________________________________\n",
      "None\n",
      "Epoch 1/100\n",
      "41/41 [==============================] - 1s 7ms/step - loss: 0.2973 - auroc: 0.9501 - aupr: 0.9480 - val_loss: 0.2436 - val_auroc: 0.9850 - val_aupr: 0.9843\n",
      "Epoch 2/100\n",
      "41/41 [==============================] - 0s 3ms/step - loss: 0.1747 - auroc: 0.9803 - aupr: 0.9784 - val_loss: 0.1541 - val_auroc: 0.9880 - val_aupr: 0.9874\n",
      "Epoch 3/100\n",
      "41/41 [==============================] - 0s 3ms/step - loss: 0.1388 - auroc: 0.9871 - aupr: 0.9860 - val_loss: 0.2377 - val_auroc: 0.9898 - val_aupr: 0.9895\n",
      "Epoch 4/100\n",
      "41/41 [==============================] - 0s 3ms/step - loss: 0.1335 - auroc: 0.9881 - aupr: 0.9861 - val_loss: 0.1757 - val_auroc: 0.9922 - val_aupr: 0.9921\n",
      "Epoch 5/100\n",
      "41/41 [==============================] - 0s 3ms/step - loss: 0.1174 - auroc: 0.9907 - aupr: 0.9891 - val_loss: 0.1534 - val_auroc: 0.9927 - val_aupr: 0.9925\n",
      "Epoch 6/100\n",
      "41/41 [==============================] - 0s 3ms/step - loss: 0.1047 - auroc: 0.9924 - aupr: 0.9911 - val_loss: 0.1425 - val_auroc: 0.9928 - val_aupr: 0.9926\n",
      "Epoch 7/100\n",
      "41/41 [==============================] - 0s 3ms/step - loss: 0.0894 - auroc: 0.9944 - aupr: 0.9939 - val_loss: 0.1081 - val_auroc: 0.9938 - val_aupr: 0.9935\n",
      "Epoch 8/100\n",
      "41/41 [==============================] - 0s 3ms/step - loss: 0.0954 - auroc: 0.9934 - aupr: 0.9927 - val_loss: 0.1563 - val_auroc: 0.9912 - val_aupr: 0.9918\n",
      "Epoch 9/100\n",
      "41/41 [==============================] - 0s 3ms/step - loss: 0.0920 - auroc: 0.9943 - aupr: 0.9935 - val_loss: 0.1117 - val_auroc: 0.9933 - val_aupr: 0.9932\n",
      "Epoch 10/100\n",
      "41/41 [==============================] - 0s 3ms/step - loss: 0.0860 - auroc: 0.9952 - aupr: 0.9945 - val_loss: 0.1355 - val_auroc: 0.9930 - val_aupr: 0.9928\n",
      "Epoch 11/100\n",
      "41/41 [==============================] - 0s 3ms/step - loss: 0.0634 - auroc: 0.9969 - aupr: 0.9963 - val_loss: 0.1105 - val_auroc: 0.9933 - val_aupr: 0.9931\n",
      "Epoch 12/100\n",
      "41/41 [==============================] - 0s 3ms/step - loss: 0.0468 - auroc: 0.9982 - aupr: 0.9979 - val_loss: 0.1179 - val_auroc: 0.9934 - val_aupr: 0.9933\n"
     ]
    },
    {
     "data": {
      "text/plain": [
       "<keras.src.callbacks.History at 0x7f84ab7bcc70>"
      ]
     },
     "execution_count": 40,
     "metadata": {},
     "output_type": "execute_result"
    }
   ],
   "source": [
    "model = deepbind_test()\n",
    "loss = keras.losses.BinaryCrossentropy()\n",
    "opti = tf.keras.optimizers.Adam(learning_rate = 0.005)\n",
    "\n",
    "# Compile the model\n",
    "model.compile(\n",
    "    loss=loss, \n",
    "    optimizer=opti, \n",
    "    metrics=[\n",
    "        tf.keras.metrics.AUC(curve=\"ROC\", name=\"auroc\"),\n",
    "        tf.keras.metrics.AUC(curve=\"PR\", name=\"aupr\")  # add AUPR curve to track dataset bias\n",
    "    ]\n",
    "    ) \n",
    "\n",
    "# Define an early stopping callback\n",
    "es_callback = keras.callbacks.EarlyStopping(monitor='val_loss', patience=5)\n",
    "\n",
    "# Train the model\n",
    "model.fit(\n",
    "    x_train, y_train, \n",
    "    batch_size=100, \n",
    "    epochs=100, \n",
    "    validation_data=(x_valid, y_valid),\n",
    "    callbacks=[es_callback]\n",
    ")"
   ]
  },
  {
   "cell_type": "code",
   "execution_count": 9,
   "metadata": {},
   "outputs": [
    {
     "name": "stdout",
     "output_type": "stream",
     "text": [
      "36/36 [==============================] - 0s 979us/step - loss: 0.2820 - auroc: 0.9712 - aupr: 0.9622\n"
     ]
    },
    {
     "data": {
      "text/plain": [
       "[0.2819617688655853, 0.9711576104164124, 0.9621874094009399]"
      ]
     },
     "execution_count": 9,
     "metadata": {},
     "output_type": "execute_result"
    }
   ],
   "source": [
    "#evaluate the model\n",
    "model.evaluate(x_test, y_test)"
   ]
  },
  {
   "cell_type": "markdown",
   "metadata": {},
   "source": [
    "## Notes\n",
    "\n",
    "model.add(layers.Dense(units=1, activation='sigmoid')) \n",
    "\n",
    "#output layer with condensed layer of 1 bec. we want a predic.\n",
    "\n",
    "#we want to change the activation function to sigmoid function because our dataset contains a binary classification task\n",
    "\n",
    "#This is the case bec the data contains a label of \"1\" if the protein binds or \"0\" if it does not"
   ]
  },
  {
   "cell_type": "markdown",
   "metadata": {},
   "source": [
    "## Saliency Maps"
   ]
  },
  {
   "cell_type": "code",
   "execution_count": 10,
   "metadata": {},
   "outputs": [
    {
     "name": "stdout",
     "output_type": "stream",
     "text": [
      "36/36 [==============================] - 0s 721us/step\n"
     ]
    }
   ],
   "source": [
    "#get model predictions for test sequences\n",
    "predictions = model.predict(x_test)\n",
    "\n",
    "# Get the top num_plots predictions\n",
    "num_plots = 10\n",
    "\n",
    "# Get the sorted indices\n",
    "sorted_indices = np.argsort(predictions[:, 0])[::-1]\n",
    "\n",
    "# Extract the top num_plots sequences\n",
    "X = x_test[sorted_indices[:num_plots]]\n",
    "\n",
    "# Reshape X to (num_plots, 200, 4)\n",
    "X = X.reshape((num_plots, 200, 4))"
   ]
  },
  {
   "cell_type": "code",
   "execution_count": 11,
   "metadata": {},
   "outputs": [],
   "source": [
    "import tensorflow as tf\n",
    "\n",
    "@tf.function\n",
    "def calculate_saliency_map(X, model, class_index=0):\n",
    "  \"\"\"fast function to generate saliency maps\"\"\"\n",
    "  if not tf.is_tensor(X):\n",
    "    X = tf.Variable(X)\n",
    "\n",
    "  with tf.GradientTape() as tape:\n",
    "    tape.watch(X)\n",
    "    output = model(X)[:,class_index]\n",
    "  return tape.gradient(output, X)\n",
    "\n",
    "saliency_map = calculate_saliency_map(X, model)\n",
    "saliency_map = saliency_map.numpy()"
   ]
  },
  {
   "cell_type": "code",
   "execution_count": 12,
   "metadata": {},
   "outputs": [
    {
     "name": "stderr",
     "output_type": "stream",
     "text": [
      "/home/pgarcia/.conda/envs/tf_2/lib/python3.9/site-packages/logomaker/src/Logo.py:1062: UserWarning: Attempting to set identical low and high ylims makes transformation singular; automatically expanding.\n",
      "  self.ax.set_ylim([ymin, ymax])\n",
      "/home/pgarcia/.conda/envs/tf_2/lib/python3.9/site-packages/logomaker/src/Logo.py:1062: UserWarning: Attempting to set identical low and high ylims makes transformation singular; automatically expanding.\n",
      "  self.ax.set_ylim([ymin, ymax])\n",
      "/home/pgarcia/.conda/envs/tf_2/lib/python3.9/site-packages/logomaker/src/Logo.py:1062: UserWarning: Attempting to set identical low and high ylims makes transformation singular; automatically expanding.\n",
      "  self.ax.set_ylim([ymin, ymax])\n",
      "/home/pgarcia/.conda/envs/tf_2/lib/python3.9/site-packages/logomaker/src/Logo.py:1062: UserWarning: Attempting to set identical low and high ylims makes transformation singular; automatically expanding.\n",
      "  self.ax.set_ylim([ymin, ymax])\n",
      "/home/pgarcia/.conda/envs/tf_2/lib/python3.9/site-packages/logomaker/src/Logo.py:1062: UserWarning: Attempting to set identical low and high ylims makes transformation singular; automatically expanding.\n",
      "  self.ax.set_ylim([ymin, ymax])\n",
      "/home/pgarcia/.conda/envs/tf_2/lib/python3.9/site-packages/logomaker/src/Logo.py:1062: UserWarning: Attempting to set identical low and high ylims makes transformation singular; automatically expanding.\n",
      "  self.ax.set_ylim([ymin, ymax])\n",
      "/home/pgarcia/.conda/envs/tf_2/lib/python3.9/site-packages/logomaker/src/Logo.py:1062: UserWarning: Attempting to set identical low and high ylims makes transformation singular; automatically expanding.\n",
      "  self.ax.set_ylim([ymin, ymax])\n",
      "/home/pgarcia/.conda/envs/tf_2/lib/python3.9/site-packages/logomaker/src/Logo.py:1062: UserWarning: Attempting to set identical low and high ylims makes transformation singular; automatically expanding.\n",
      "  self.ax.set_ylim([ymin, ymax])\n",
      "/home/pgarcia/.conda/envs/tf_2/lib/python3.9/site-packages/logomaker/src/Logo.py:1062: UserWarning: Attempting to set identical low and high ylims makes transformation singular; automatically expanding.\n",
      "  self.ax.set_ylim([ymin, ymax])\n",
      "/home/pgarcia/.conda/envs/tf_2/lib/python3.9/site-packages/logomaker/src/Logo.py:1062: UserWarning: Attempting to set identical low and high ylims makes transformation singular; automatically expanding.\n",
      "  self.ax.set_ylim([ymin, ymax])\n"
     ]
    },
    {
     "data": {
      "image/png": "[encoded data removed]",
      "text/plain": [
       "<Figure size 2000x100 with 1 Axes>"
      ]
     },
     "metadata": {},
     "output_type": "display_data"
    },
    {
     "data": {
      "image/png": "[encoded data removed]",
      "text/plain": [
       "<Figure size 2000x100 with 1 Axes>"
      ]
     },
     "metadata": {},
     "output_type": "display_data"
    },
    {
     "data": {
      "image/png": "[encoded data removed]",
      "text/plain": [
       "<Figure size 2000x100 with 1 Axes>"
      ]
     },
     "metadata": {},
     "output_type": "display_data"
    },
    {
     "data": {
      "image/png": "[encoded data removed]",
      "text/plain": [
       "<Figure size 2000x100 with 1 Axes>"
      ]
     },
     "metadata": {},
     "output_type": "display_data"
    },
    {
     "data": {
      "image/png": "[encoded data removed]",
      "text/plain": [
       "<Figure size 2000x100 with 1 Axes>"
      ]
     },
     "metadata": {},
     "output_type": "display_data"
    },
    {
     "data": {
      "image/png": "[encoded data removed]",
      "text/plain": [
       "<Figure size 2000x100 with 1 Axes>"
      ]
     },
     "metadata": {},
     "output_type": "display_data"
    },
    {
     "data": {
      "image/png": "[encoded data removed]",
      "text/plain": [
       "<Figure size 2000x100 with 1 Axes>"
      ]
     },
     "metadata": {},
     "output_type": "display_data"
    },
    {
     "data": {
      "image/png": "[encoded data removed]",
      "text/plain": [
       "<Figure size 2000x100 with 1 Axes>"
      ]
     },
     "metadata": {},
     "output_type": "display_data"
    },
    {
     "data": {
      "image/png": "[encoded data removed]",
      "text/plain": [
       "<Figure size 2000x100 with 1 Axes>"
      ]
     },
     "metadata": {},
     "output_type": "display_data"
    },
    {
     "data": {
      "image/png": "[encoded data removed]",
      "text/plain": [
       "<Figure size 2000x100 with 1 Axes>"
      ]
     },
     "metadata": {},
     "output_type": "display_data"
    }
   ],
   "source": [
    "import pandas as pd\n",
    "import logomaker\n",
    "\n",
    "def plot_saliency_map(scores, alphabet, ax=None):\n",
    "  L,A = scores.shape\n",
    "  counts_df = pd.DataFrame(data=0.0, columns=list(alphabet), index=list(range(L)))\n",
    "  for a in range(A):\n",
    "    for l in range(L):\n",
    "      counts_df.iloc[l,a] = scores[l,a]\n",
    "\n",
    "  if not ax:\n",
    "    ax = plt.subplot(1,1,1)\n",
    "  logomaker.Logo(counts_df, ax=ax)\n",
    "\n",
    "\n",
    "saliency_scores = saliency_map * X\n",
    "for scores in saliency_scores:\n",
    "  fig = plt.figure(figsize=(20,1))\n",
    "  ax = plt.subplot(1,1,1)\n",
    "  plot_saliency_map(scores, alphabet, ax)"
   ]
  },
  {
   "cell_type": "code",
   "execution_count": null,
   "metadata": {},
   "outputs": [],
   "source": [
    "os.makedirs('/home/pgarcia/rbp_project/models_deepbind')# Creating a directory\n",
    "model.save('models_deepbind/HNRNPK_K562_200.h5')   # Saving model"
   ]
  },
  {
   "cell_type": "code",
   "execution_count": null,
   "metadata": {},
   "outputs": [],
   "source": [
    "#Implement 2 layer Convol model from \"Representation learning of genomic sequence motifs with CNNs\" paper\n",
    "    \n",
    "#Build the model\n",
    "model = models.Sequential()\n",
    "#layer1\n",
    "model.add(layers.InputLayer(input_shape=(200, 4))) # 4 channel input\n",
    "#layer2\n",
    "model.add(layers.Conv1D(filters=30, kernel_size=19, strides= 1, padding='same', kernal_regularizer=1e-6))\n",
    "model.add(layers.Activation(activations.relu))\n",
    "#layer3\n",
    "model.add(layers.MaxPooling1D(pool_size=2, strides=2))\n",
    "model.add(layers.Dropout(0.1))\n",
    "    \n",
    "model.add(layers.Conv1D(filters=128, kernel_size=5, strides= 1, padding='same',  kernal_regularizer=1e-6))\n",
    "model.add(layers.MaxPooling1D(pool_size=50, strides=50))\n",
    "model.add(layers.Dropout(0.1))\n",
    "#model.add(layers.Flatten())\n",
    "model.add(layers.Dense(units=512, activation='relu'))\n",
    "model.add(layers.Dropout(0.5))\n",
    "\n"
   ]
  },
  {
   "cell_type": "code",
   "execution_count": null,
   "metadata": {},
   "outputs": [],
   "source": [
    "def _repre_test():\n",
    "    #Build the model\n",
    "    model = models.Sequential()\n",
    "    #layer1\n",
    "    model.add(layers.InputLayer(input_shape=(200, 4))) # 4 channel input\n",
    "    \n",
    "    #layer2\n",
    "    #model.add(layers.Conv1D(filters=30, kernel_size=19, strides= 1, padding='same', kernel_regularizer=1e-6))\n",
    "    #L2_kernelregularizer = tf.keras.regularizers.L2(0.003)\n",
    "    model.add(layers.Conv1D(filters=30, kernel_size=19, strides= 1, padding='same'))\n",
    "    # [tf.keras.regularizers.L2(1e-6)]\n",
    "    model.add(layers.Activation(activations.relu))\n",
    "\n",
    "    #layer3\n",
    "    model.add(layers.MaxPooling1D(pool_size=2, strides=2))\n",
    "    model.add(layers.Dropout(0.1))\n",
    "    \n",
    "    model.add(layers.Conv1D(filters=30, kernel_size=19, strides= 1, padding='same'))\n",
    "    #model.add(layers.Conv1D(filters=128, kernel_size=5, strides= 1, padding='same',  kernel_regularizer=1e-6))\n",
    "    model.add(layers.MaxPooling1D(pool_size=50, strides=50))\n",
    "    model.add(layers.Dropout(0.1))\n",
    "    \n",
    "    model.add(layers.Dense(units=512, activation='relu'))\n",
    "    model.add(layers.Dropout(0.5))\n",
    "    \n",
    "\n",
    "    #Compile the model\n",
    "    loss = keras.losses.BinaryCrossentropy()\n",
    "    opti = tf.keras.optimizers.Adam(learning_rate = 0.003)\n",
    "    model.compile(loss=loss, optimizers=opti, metrics=[tf.keras.metrics.AUC(curve=\"ROC\", name=\"auroc\"),tf.keras.metrics.AUC(curve=\"PR\", name=\"aupr\")]) #add AUPR curve to track dataset bias\n",
    "    #model.add(optimizers.Adam(learning_rate= 0.0003))\n",
    "    \n",
    "    #Define an early stopping callback\n",
    "    es_callback = keras.callbacks.EarlyStopping(monitor='val_loss', patience=5)\n",
    "    \n",
    "\n",
    "    return model, es_callback"
   ]
  },
  {
   "cell_type": "code",
   "execution_count": null,
   "metadata": {},
   "outputs": [],
   "source": [
    "models"
   ]
  },
  {
   "cell_type": "code",
   "execution_count": null,
   "metadata": {},
   "outputs": [],
   "source": [
    "def repre_test():\n",
    "    \n",
    "    #Build the model\n",
    "    tf.keras.backend.clear_session()\n",
    "    model = models.Sequential()\n",
    "    # layer1\n",
    "    model.add(layers.InputLayer(input_shape=(200, 4))) # 4 channel input\n",
    "    \n",
    "    # layer2\n",
    "    l2_regularizer = tf.keras.regularizers.L2(1e-6)\n",
    "    model.add(layers.Conv1D(filters=30, kernel_size=19, strides=1, padding='same', kernel_regularizer=l2_regularizer))\n",
    "    # add batch normalization\n",
    "    # batch_norm = tf.keras.layers.BatchNormalization()\n",
    "    model.add(layers.Activation(activations.relu))\n",
    "\n",
    "    # layer3\n",
    "    model.add(layers.MaxPooling1D(pool_size=2, strides=2))\n",
    "    model.add(layers.Dropout(0.1))\n",
    "    \n",
    "    model.add(layers.Conv1D(filters=30, kernel_size=19, strides=1, padding='same'))\n",
    "    # model.add(layers.Conv1D(filters=30, kernel_size=19, strides= 1, padding='same', kernel_regularizer=l2_regularizer))\n",
    "    model.add(layers.MaxPooling1D(pool_size=50, strides=50))\n",
    "    model.add(layers.Dropout(0.1))\n",
    "    model.add(layers.Flatten())\n",
    "    \n",
    "    model.add(layers.Dense(units=512, activation='relu'))\n",
    "    model.add(layers.Dropout(0.5))\n",
    "\n",
    "    model.add(layers.Dense(units=1, activation='sigmoid'))\n",
    "\n",
    "    # model.summary()\n",
    "\n",
    "    \n",
    "    return model"
   ]
  },
  {
   "cell_type": "code",
   "execution_count": null,
   "metadata": {},
   "outputs": [],
   "source": [
    "#Compile the model\n",
    "model = repre_test()\n",
    "loss = keras.losses.BinaryCrossentropy()\n",
    "opti = tf.keras.optimizers.Adam(learning_rate=0.003)\n",
    "model.compile(\n",
    "    loss=loss, \n",
    "    optimizer=opti, \n",
    "    metrics=[\n",
    "        tf.keras.metrics.AUC(curve=\"ROC\", name=\"auroc\"),\n",
    "        tf.keras.metrics.AUC(curve=\"PR\", name=\"aupr\")\n",
    "    ]\n",
    "    ) # add AUPR curve to track dataset bias\n",
    "\n",
    "# Define an early stopping callback\n",
    "es_callback = keras.callbacks.EarlyStopping(monitor='val_loss', patience=5)\n",
    "\n",
    "model.fit(\n",
    "    x_train, y_train, \n",
    "    batch_size=100, \n",
    "    epochs=100, \n",
    "    validation_data=(x_valid, y_valid),\n",
    "    callbacks=[es_callback]\n",
    ")"
   ]
  },
  {
   "cell_type": "code",
   "execution_count": null,
   "metadata": {},
   "outputs": [],
   "source": [
    "#evaluate the model\n",
    "model.evaluate(x_test, y_test)"
   ]
  },
  {
   "cell_type": "code",
   "execution_count": null,
   "metadata": {},
   "outputs": [],
   "source": [
    "print(y_test.shape)"
   ]
  },
  {
   "cell_type": "markdown",
   "metadata": {},
   "source": [
    "# Saliency Analysis"
   ]
  },
  {
   "cell_type": "code",
   "execution_count": null,
   "metadata": {},
   "outputs": [],
   "source": [
    "#get model predictions for test sequences\n",
    "predictions = model.predict(x_test)\n",
    "\n",
    "# Get the top num_plots predictions\n",
    "num_plots = 10\n",
    "\n",
    "# Get the sorted indices\n",
    "sorted_indices = np.argsort(predictions[:, 0])[::-1]\n",
    "\n",
    "# Extract the top num_plots sequences\n",
    "X = x_test[sorted_indices[:num_plots]]\n",
    "\n",
    "# Reshape X to (num_plots, 200, 4)\n",
    "X = X.reshape((num_plots, 200, 4))"
   ]
  },
  {
   "cell_type": "code",
   "execution_count": null,
   "metadata": {},
   "outputs": [],
   "source": [
    "import tensorflow as tf\n",
    "\n",
    "@tf.function\n",
    "def calculate_saliency_map(X, model, class_index=0):\n",
    "  \"\"\"fast function to generate saliency maps\"\"\"\n",
    "  if not tf.is_tensor(X):\n",
    "    X = tf.Variable(X)\n",
    "\n",
    "  with tf.GradientTape() as tape:\n",
    "    tape.watch(X)\n",
    "    output = model(X)[:,class_index]\n",
    "  return tape.gradient(output, X)\n",
    "\n",
    "saliency_map = calculate_saliency_map(X, model)\n",
    "saliency_map = saliency_map.numpy()"
   ]
  },
  {
   "cell_type": "code",
   "execution_count": null,
   "metadata": {},
   "outputs": [],
   "source": [
    "import pandas as pd\n",
    "import logomaker\n",
    "\n",
    "def plot_saliency_map(scores, alphabet, ax=None):\n",
    "  L,A = scores.shape\n",
    "  counts_df = pd.DataFrame(data=0.0, columns=list(alphabet), index=list(range(L)))\n",
    "  for a in range(A):\n",
    "    for l in range(L):\n",
    "      counts_df.iloc[l,a] = scores[l,a]\n",
    "\n",
    "  if not ax:\n",
    "    ax = plt.subplot(1,1,1)\n",
    "  logomaker.Logo(counts_df, ax=ax)\n",
    "\n",
    "\n",
    "saliency_scores = saliency_map * X\n",
    "for scores in saliency_scores:\n",
    "  fig = plt.figure(figsize=(20,1))\n",
    "  ax = plt.subplot(1,1,1)\n",
    "  plot_saliency_map(scores, alphabet, ax)"
   ]
  },
  {
   "cell_type": "code",
   "execution_count": null,
   "metadata": {},
   "outputs": [],
   "source": [
    "#STOP"
   ]
  }
 ],
 "metadata": {
  "kernelspec": {
   "display_name": "tf_2",
   "language": "python",
   "name": "python3"
  },
  "language_info": {
   "codemirror_mode": {
    "name": "ipython",
    "version": 3
   },
   "file_extension": ".py",
   "mimetype": "text/x-python",
   "name": "python",
   "nbconvert_exporter": "python",
   "pygments_lexer": "ipython3",
   "version": "3.9.16"
  },
  "orig_nbformat": 4
 },
 "nbformat": 4,
 "nbformat_minor": 2
}
